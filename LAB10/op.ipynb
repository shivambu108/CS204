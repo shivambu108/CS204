{
 "cells": [
  {
   "cell_type": "code",
   "execution_count": 2,
   "metadata": {},
   "outputs": [
    {
     "name": "stdout",
     "output_type": "stream",
     "text": [
      "Matrix1 dimensions: (50, 100)\n",
      "Matrix2 dimensions: (50, 1)\n",
      "Matching rows (df1 row index, df2 row index): []\n",
      "Matching columns (df1 column index, df2 column index): []\n"
     ]
    },
    {
     "name": "stderr",
     "output_type": "stream",
     "text": [
      "C:\\Users\\shiva\\AppData\\Local\\Temp\\ipykernel_7764\\2989850390.py:5: FutureWarning: The 'delim_whitespace' keyword in pd.read_csv is deprecated and will be removed in a future version. Use ``sep='\\s+'`` instead\n",
      "  df1 = pd.read_csv(\"Matrix_Data.txt\", delim_whitespace=True, header=None)\n",
      "C:\\Users\\shiva\\AppData\\Local\\Temp\\ipykernel_7764\\2989850390.py:6: FutureWarning: The 'delim_whitespace' keyword in pd.read_csv is deprecated and will be removed in a future version. Use ``sep='\\s+'`` instead\n",
      "  df2 = pd.read_csv(\"Observed_Signal.txt\", delim_whitespace=True, header=None)\n"
     ]
    }
   ],
   "source": [
    "import pandas as pd\n",
    "\n",
    "# Read matrix data from text files into DataFrames.\n",
    "# Set delim_whitespace=True since the numbers are whitespace separated, and header=None because there is no header.\n",
    "df1 = pd.read_csv(\"Matrix_Data.txt\", delim_whitespace=True, header=None)\n",
    "df2 = pd.read_csv(\"Observed_Signal.txt\", delim_whitespace=True, header=None)\n",
    "\n",
    "\n",
    "# Display the shape (rows, columns) of each matrix.\n",
    "print(\"Matrix1 dimensions:\", df1.shape)  # (rows, columns)\n",
    "print(\"Matrix2 dimensions:\", df2.shape)\n",
    "\n",
    "# Find matching rows between the two DataFrames.\n",
    "# Here, we compare each row (converted to a list) in df1 with each row in df2.\n",
    "match_rows = []\n",
    "for i in range(len(df1)):\n",
    "    row1 = df1.iloc[i].tolist()\n",
    "    for j in range(len(df2)):\n",
    "        row2 = df2.iloc[j].tolist()\n",
    "        if row1 == row2:\n",
    "            match_rows.append((i, j))\n",
    "print(\"Matching rows (df1 row index, df2 row index):\", match_rows)\n",
    "\n",
    "# Find matching columns between the two DataFrames.\n",
    "# We iterate over each column, converting it to a list.\n",
    "match_columns = []\n",
    "for i in range(df1.shape[1]):\n",
    "    col1 = df1.iloc[:, i].tolist()\n",
    "    for j in range(df2.shape[1]):\n",
    "        col2 = df2.iloc[:, j].tolist()\n",
    "        if col1 == col2:\n",
    "            match_columns.append((i, j))\n",
    "print(\"Matching columns (df1 column index, df2 column index):\", match_columns)\n"
   ]
  },
  {
   "cell_type": "code",
   "execution_count": 7,
   "metadata": {},
   "outputs": [
    {
     "name": "stdout",
     "output_type": "stream",
     "text": [
      "The 4 columns closest to the observed signal are:\n",
      "Column 50 with distance 30.3355\n",
      "Column 5 with distance 33.1938\n",
      "Column 23 with distance 33.6027\n",
      "Column 3 with distance 33.6291\n"
     ]
    },
    {
     "name": "stderr",
     "output_type": "stream",
     "text": [
      "C:\\Users\\shiva\\AppData\\Local\\Temp\\ipykernel_7764\\3487565342.py:5: FutureWarning: The 'delim_whitespace' keyword in pd.read_csv is deprecated and will be removed in a future version. Use ``sep='\\s+'`` instead\n",
      "  matrix_df = pd.read_csv(\"Matrix_Data.txt\", delim_whitespace=True, header=None)\n",
      "C:\\Users\\shiva\\AppData\\Local\\Temp\\ipykernel_7764\\3487565342.py:9: FutureWarning: The 'delim_whitespace' keyword in pd.read_csv is deprecated and will be removed in a future version. Use ``sep='\\s+'`` instead\n",
      "  observed_df = pd.read_csv(\"Observed_Signal.txt\", delim_whitespace=True, header=None)\n"
     ]
    }
   ],
   "source": [
    "import pandas as pd\n",
    "import numpy as np\n",
    "\n",
    "# Load the matrix data. Assumes whitespace-separated values and no header.\n",
    "matrix_df = pd.read_csv(\"Matrix_Data.txt\", delim_whitespace=True, header=None)\n",
    "\n",
    "# Load the observed signal. Assumes the file contains a single column of data.\n",
    "# If the observed signal file contains a single row instead, you may need to transpose it.\n",
    "observed_df = pd.read_csv(\"Observed_Signal.txt\", delim_whitespace=True, header=None)\n",
    "# Convert observed signal to a 1D numpy array.\n",
    "observed_signal = observed_df.squeeze().to_numpy()\n",
    "\n",
    "# Check that the observed signal has the same number of rows as the matrix.\n",
    "if len(observed_signal) != matrix_df.shape[0]:\n",
    "    raise ValueError(\"The observed signal length must match the number of rows in the matrix.\")\n",
    "\n",
    "# Compute the Euclidean distance between the observed signal and each column in the matrix.\n",
    "distances = {}\n",
    "for col in matrix_df.columns:\n",
    "    col_vector = matrix_df[col].to_numpy()\n",
    "    # Compute Euclidean distance.\n",
    "    distance = np.linalg.norm(col_vector - observed_signal)\n",
    "    distances[col] = distance\n",
    "\n",
    "# Sort the columns by the computed distance (smallest distance first)\n",
    "sorted_columns = sorted(distances, key=distances.get)\n",
    "closest_four = sorted_columns[:4]\n",
    "\n",
    "print(\"The 4 columns closest to the observed signal are:\")\n",
    "for col in closest_four:\n",
    "    print(f\"Column {col} with distance {distances[col]:.4f}\")\n"
   ]
  },
  {
   "cell_type": "code",
   "execution_count": 8,
   "metadata": {},
   "outputs": [
    {
     "name": "stdout",
     "output_type": "stream",
     "text": [
      "The 4 columns closest to the observed signal are:\n",
      "Column 50 with distance 30.3355\n",
      "Column 5 with distance 33.1938\n",
      "Column 23 with distance 33.6027\n",
      "Column 3 with distance 33.6291\n"
     ]
    },
    {
     "name": "stderr",
     "output_type": "stream",
     "text": [
      "C:\\Users\\shiva\\AppData\\Local\\Temp\\ipykernel_7764\\2754561853.py:6: FutureWarning: The 'delim_whitespace' keyword in pd.read_csv is deprecated and will be removed in a future version. Use ``sep='\\s+'`` instead\n",
      "  matrix_df = pd.read_csv(\"Matrix_Data.txt\", delim_whitespace=True, header=None)\n",
      "C:\\Users\\shiva\\AppData\\Local\\Temp\\ipykernel_7764\\2754561853.py:9: FutureWarning: The 'delim_whitespace' keyword in pd.read_csv is deprecated and will be removed in a future version. Use ``sep='\\s+'`` instead\n",
      "  observed_df = pd.read_csv(\"Observed_Signal.txt\", delim_whitespace=True, header=None)\n"
     ]
    }
   ],
   "source": [
    "import pandas as pd\n",
    "import numpy as np\n",
    "from concurrent.futures import ThreadPoolExecutor\n",
    "\n",
    "# Load the matrix data\n",
    "matrix_df = pd.read_csv(\"Matrix_Data.txt\", delim_whitespace=True, header=None)\n",
    "\n",
    "# Load the observed signal\n",
    "observed_df = pd.read_csv(\"Observed_Signal.txt\", delim_whitespace=True, header=None)\n",
    "observed_signal = observed_df.squeeze().to_numpy()\n",
    "\n",
    "# Validate dimensions\n",
    "if len(observed_signal) != matrix_df.shape[0]:\n",
    "    raise ValueError(\"The observed signal length must match the number of rows in the matrix.\")\n",
    "\n",
    "# Function to compute Euclidean distance for a column\n",
    "def compute_distance(col):\n",
    "    col_vector = matrix_df[col].to_numpy()\n",
    "    return col, np.linalg.norm(col_vector - observed_signal)\n",
    "\n",
    "# Use multithreading to compute distances\n",
    "distances = {}\n",
    "with ThreadPoolExecutor() as executor:\n",
    "    results = executor.map(compute_distance, matrix_df.columns)\n",
    "    distances = dict(results)  # Collect results in a dictionary\n",
    "\n",
    "# Sort the distances and get the top 4 closest columns\n",
    "sorted_columns = sorted(distances, key=distances.get)\n",
    "closest_four = sorted_columns[:4]\n",
    "\n",
    "# Output the results\n",
    "print(\"The 4 columns closest to the observed signal are:\")\n",
    "for col in closest_four:\n",
    "    print(f\"Column {col} with distance {distances[col]:.4f}\")\n"
   ]
  },
  {
   "cell_type": "code",
   "execution_count": null,
   "metadata": {},
   "outputs": [],
   "source": []
  }
 ],
 "metadata": {
  "kernelspec": {
   "display_name": ".venv",
   "language": "python",
   "name": "python3"
  },
  "language_info": {
   "codemirror_mode": {
    "name": "ipython",
    "version": 3
   },
   "file_extension": ".py",
   "mimetype": "text/x-python",
   "name": "python",
   "nbconvert_exporter": "python",
   "pygments_lexer": "ipython3",
   "version": "3.12.4"
  }
 },
 "nbformat": 4,
 "nbformat_minor": 2
}
